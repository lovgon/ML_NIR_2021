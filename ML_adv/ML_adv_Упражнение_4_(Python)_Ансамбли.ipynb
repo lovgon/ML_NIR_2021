{
  "nbformat": 4,
  "nbformat_minor": 0,
  "metadata": {
    "colab": {
      "name": "ML_adv_Упражнение_4_(Python)_Ансамбли.ipynb",
      "provenance": [],
      "collapsed_sections": [],
      "authorship_tag": "ABX9TyNStKZ8/xN0rPmXaUt9nbmK",
      "include_colab_link": true
    },
    "kernelspec": {
      "display_name": "Python 3",
      "name": "python3"
    },
    "language_info": {
      "name": "python"
    }
  },
  "cells": [
    {
      "cell_type": "markdown",
      "metadata": {
        "id": "view-in-github",
        "colab_type": "text"
      },
      "source": [
        "<a href=\"https://colab.research.google.com/github/lovgon/ML_NIR_2021/blob/main/ML_adv/ML_adv_%D0%A3%D0%BF%D1%80%D0%B0%D0%B6%D0%BD%D0%B5%D0%BD%D0%B8%D0%B5_4_(Python)_%D0%90%D0%BD%D1%81%D0%B0%D0%BC%D0%B1%D0%BB%D0%B8.ipynb\" target=\"_parent\"><img src=\"https://colab.research.google.com/assets/colab-badge.svg\" alt=\"Open In Colab\"/></a>"
      ]
    },
    {
      "cell_type": "code",
      "metadata": {
        "id": "KsnBnYPvx-vb"
      },
      "source": [
        "!pip install --upgrade pip\n",
        "!pip install imutils\n",
        "!pip install opencv-python\n",
        "!pip install --upgrade scikit-learn==0.23.0"
      ],
      "execution_count": null,
      "outputs": []
    },
    {
      "cell_type": "markdown",
      "metadata": {
        "id": "pH-1rM0Px-vc"
      },
      "source": [
        "Подключение базовых библиотек для обработки изображений"
      ]
    },
    {
      "cell_type": "code",
      "metadata": {
        "id": "2Jp1Y6k-x-vd"
      },
      "source": [
        "from IPython.display import Image\n",
        "from imutils import paths\n",
        "import numpy as np\n",
        "import cv2\n",
        "import os"
      ],
      "execution_count": null,
      "outputs": []
    },
    {
      "cell_type": "markdown",
      "metadata": {
        "id": "wBhtHm_yx-vd"
      },
      "source": [
        "Для работы с изображениями, найдем их гистограммы — характеристики распределения интенсивности изображения. Для этого можно воспользоваться следующим методом."
      ]
    },
    {
      "cell_type": "code",
      "metadata": {
        "id": "9VMYiFVCx-vd"
      },
      "source": [
        "def extract_histogram(image, bins=(8, 8, 8)):\n",
        "    hist = cv2.calcHist([image], [0, 1, 2], None, bins, [0, 256, 0, 256, 0, 256])\n",
        "    cv2.normalize(hist, hist)\n",
        "    return hist.flatten()"
      ],
      "execution_count": null,
      "outputs": []
    },
    {
      "cell_type": "markdown",
      "metadata": {
        "id": "sh4rrLr9x-ve"
      },
      "source": [
        "Считаем изображения из корневой папки train и вычислим гистограмму каждого изображения. Кроме того, отделим метку каждого изображения. Обработка большого числа изображений в облачных сервисах занимает длительное время (1-5 минут)."
      ]
    },
    {
      "cell_type": "code",
      "metadata": {
        "id": "HRXs5AtIx-ve"
      },
      "source": [
        "imagePaths = sorted(list(paths.list_images('train')))\n",
        "trainData = []\n",
        "labels = []\n",
        "\n",
        "for (i, imagePath) in enumerate(imagePaths):\n",
        "    image = cv2.imread(imagePath, 1)\n",
        "    label = imagePath.split(os.path.sep)[-1].split(\".\")[0]\n",
        "    hist = extract_histogram(image)\n",
        "    trainData.append(hist)\n",
        "    labels.append(label)"
      ],
      "execution_count": null,
      "outputs": []
    },
    {
      "cell_type": "markdown",
      "metadata": {
        "id": "CcXFIY7Ax-ve"
      },
      "source": [
        "Преобразуем метки в удобный формат 0 и 1. Cat заменяем на 1, Dog на 0."
      ]
    },
    {
      "cell_type": "code",
      "metadata": {
        "id": "1c1PhX4Fx-vf"
      },
      "source": [
        "Y = [1 if x == 'cat' else 0 for x in labels]"
      ],
      "execution_count": null,
      "outputs": []
    },
    {
      "cell_type": "markdown",
      "metadata": {
        "id": "LSdNLqT_x-vf"
      },
      "source": [
        "Видно, что классом 1 у нас занумерованы коты (кошки)."
      ]
    },
    {
      "cell_type": "markdown",
      "metadata": {
        "id": "zyraRlVOx-vf"
      },
      "source": [
        "Обучаем первый базовый классификатор - бэггинг деревьев принятия решений"
      ]
    },
    {
      "cell_type": "code",
      "metadata": {
        "colab": {
          "base_uri": "https://localhost:8080/"
        },
        "id": "gSdGbYw2x-vg",
        "outputId": "78216861-c5ea-4b55-a933-d6344c2237b4"
      },
      "source": [
        "from sklearn.ensemble import BaggingClassifier\n",
        "from sklearn.tree import DecisionTreeClassifier\n",
        "\n",
        "tree = DecisionTreeClassifier(criterion = 'entropy', min_samples_leaf = 10, max_leaf_nodes = 20, random_state = 92)\n",
        "bagging = BaggingClassifier(tree, n_estimators = 20, random_state = 92)\n",
        "bagging.fit(trainData, Y)"
      ],
      "execution_count": null,
      "outputs": [
        {
          "output_type": "execute_result",
          "data": {
            "text/plain": [
              "BaggingClassifier(base_estimator=DecisionTreeClassifier(criterion='entropy',\n",
              "                                                        max_leaf_nodes=20,\n",
              "                                                        min_samples_leaf=10,\n",
              "                                                        random_state=92),\n",
              "                  n_estimators=20, random_state=92)"
            ]
          },
          "metadata": {
            "tags": []
          },
          "execution_count": 6
        }
      ]
    },
    {
      "cell_type": "markdown",
      "metadata": {
        "id": "gA065Xf6x-vg"
      },
      "source": [
        "Теперь обучим модель почти-разделяющий гиперплосоксти."
      ]
    },
    {
      "cell_type": "code",
      "metadata": {
        "colab": {
          "base_uri": "https://localhost:8080/"
        },
        "id": "NwjtrVOfx-vg",
        "outputId": "240fe73a-0e2c-4a43-cbac-dc5082613f14"
      },
      "source": [
        "from sklearn.svm import LinearSVC\n",
        "\n",
        "svm = LinearSVC(C = 1.92, random_state = 92)\n",
        "svm.fit(trainData, Y)"
      ],
      "execution_count": null,
      "outputs": [
        {
          "output_type": "execute_result",
          "data": {
            "text/plain": [
              "LinearSVC(C=1.92, random_state=92)"
            ]
          },
          "metadata": {
            "tags": []
          },
          "execution_count": 7
        }
      ]
    },
    {
      "cell_type": "markdown",
      "metadata": {
        "id": "K-m0I8qmx-vh"
      },
      "source": [
        "И наконец обучаем третий базовый алгоритм — случайный лес"
      ]
    },
    {
      "cell_type": "code",
      "metadata": {
        "colab": {
          "base_uri": "https://localhost:8080/"
        },
        "id": "yLM1pK-rx-vh",
        "outputId": "d2e7a715-4e8f-4440-b2f4-2b1c16a44cac"
      },
      "source": [
        "from sklearn.ensemble import RandomForestClassifier\n",
        "\n",
        "forest = RandomForestClassifier(n_estimators = 20, criterion = 'entropy', min_samples_leaf = 10, max_leaf_nodes = 20, random_state = 92)\n",
        "forest.fit(trainData, Y)"
      ],
      "execution_count": null,
      "outputs": [
        {
          "output_type": "execute_result",
          "data": {
            "text/plain": [
              "RandomForestClassifier(criterion='entropy', max_leaf_nodes=20,\n",
              "                       min_samples_leaf=10, n_estimators=20, random_state=92)"
            ]
          },
          "metadata": {
            "tags": []
          },
          "execution_count": 8
        }
      ]
    },
    {
      "cell_type": "markdown",
      "metadata": {
        "id": "X0X-hOnbx-vh"
      },
      "source": [
        "Задаем в качестве решающего метаалгоритма логистическую регрессию:"
      ]
    },
    {
      "cell_type": "code",
      "metadata": {
        "id": "gViGvaZLx-vh"
      },
      "source": [
        "from sklearn.linear_model import LogisticRegression\n",
        "\n",
        "lr = LogisticRegression(solver='lbfgs', random_state = 92)"
      ],
      "execution_count": null,
      "outputs": []
    },
    {
      "cell_type": "markdown",
      "metadata": {
        "id": "xiVO9fCJx-vi"
      },
      "source": [
        "Обучаем метаалгоритм"
      ]
    },
    {
      "cell_type": "code",
      "metadata": {
        "colab": {
          "base_uri": "https://localhost:8080/"
        },
        "id": "hKgLnvl5x-vi",
        "outputId": "64b7ffc3-d6ac-446d-8db7-e8c65b83e7cc"
      },
      "source": [
        "from sklearn.ensemble import StackingClassifier\n",
        "\n",
        "base_estimators = [('SVM', svm), ('Bagging DT', bagging), ('DecisionForest', forest)]\n",
        "sclf = StackingClassifier(estimators=base_estimators, final_estimator=lr, cv = 2)\n",
        "sclf.fit(trainData, Y)"
      ],
      "execution_count": null,
      "outputs": [
        {
          "output_type": "execute_result",
          "data": {
            "text/plain": [
              "StackingClassifier(cv=2,\n",
              "                   estimators=[('SVM', LinearSVC(C=1.92, random_state=92)),\n",
              "                               ('Bagging DT',\n",
              "                                BaggingClassifier(base_estimator=DecisionTreeClassifier(criterion='entropy',\n",
              "                                                                                        max_leaf_nodes=20,\n",
              "                                                                                        min_samples_leaf=10,\n",
              "                                                                                        random_state=92),\n",
              "                                                  n_estimators=20,\n",
              "                                                  random_state=92)),\n",
              "                               ('DecisionForest',\n",
              "                                RandomForestClassifier(criterion='entropy',\n",
              "                                                       max_leaf_nodes=20,\n",
              "                                                       min_samples_leaf=10,\n",
              "                                                       n_estimators=20,\n",
              "                                                       random_state=92))],\n",
              "                   final_estimator=LogisticRegression(random_state=92))"
            ]
          },
          "metadata": {
            "tags": []
          },
          "execution_count": 10
        }
      ]
    },
    {
      "cell_type": "markdown",
      "metadata": {
        "id": "62xuL_vex-vi"
      },
      "source": [
        "Оценка метамодели. Доля правильной классификации (Accuracy):"
      ]
    },
    {
      "cell_type": "code",
      "metadata": {
        "colab": {
          "base_uri": "https://localhost:8080/",
          "height": 35
        },
        "id": "KT2S0v3Dx-vi",
        "outputId": "b1c9defd-61d1-4e29-8fec-592f110b58de"
      },
      "source": [
        "'%.2f' % sclf.score(trainData, Y)"
      ],
      "execution_count": null,
      "outputs": [
        {
          "output_type": "execute_result",
          "data": {
            "application/vnd.google.colaboratory.intrinsic+json": {
              "type": "string"
            },
            "text/plain": [
              "'0.85'"
            ]
          },
          "metadata": {
            "tags": []
          },
          "execution_count": 11
        }
      ]
    },
    {
      "cell_type": "markdown",
      "metadata": {
        "id": "_DwIdm98x-vj"
      },
      "source": [
        "Вычислим предсказания для объекта из папки test"
      ]
    },
    {
      "cell_type": "code",
      "metadata": {
        "colab": {
          "base_uri": "https://localhost:8080/",
          "height": 35
        },
        "id": "XvkG-BHux-vj",
        "outputId": "c6f212ab-4155-4043-b341-45adabf52fe5"
      },
      "source": [
        "'%.3f' % (sclf.predict_proba(extract_histogram(cv2.imread('test/cat.1046.jpg')).reshape(1, -1))[0][1])"
      ],
      "execution_count": null,
      "outputs": [
        {
          "output_type": "execute_result",
          "data": {
            "application/vnd.google.colaboratory.intrinsic+json": {
              "type": "string"
            },
            "text/plain": [
              "'0.426'"
            ]
          },
          "metadata": {
            "tags": []
          },
          "execution_count": 12
        }
      ]
    },
    {
      "cell_type": "code",
      "metadata": {
        "colab": {
          "base_uri": "https://localhost:8080/",
          "height": 35
        },
        "id": "mgqR0nEKKjhV",
        "outputId": "8cf798db-1f70-48d1-b471-d4cbec1af4ec"
      },
      "source": [
        "'%.3f' % (sclf.predict_proba(extract_histogram(cv2.imread('test/dog.1005.jpg')).reshape(1, -1))[0][1])"
      ],
      "execution_count": null,
      "outputs": [
        {
          "output_type": "execute_result",
          "data": {
            "application/vnd.google.colaboratory.intrinsic+json": {
              "type": "string"
            },
            "text/plain": [
              "'0.096'"
            ]
          },
          "metadata": {
            "tags": []
          },
          "execution_count": 13
        }
      ]
    },
    {
      "cell_type": "code",
      "metadata": {
        "colab": {
          "base_uri": "https://localhost:8080/",
          "height": 35
        },
        "id": "XwdhRFLAKkEO",
        "outputId": "b0a1e30a-13f4-4b31-8de5-051248eb5339"
      },
      "source": [
        "'%.3f' % (sclf.predict_proba(extract_histogram(cv2.imread('test/dog.1019.jpg')).reshape(1, -1))[0][1])"
      ],
      "execution_count": null,
      "outputs": [
        {
          "output_type": "execute_result",
          "data": {
            "application/vnd.google.colaboratory.intrinsic+json": {
              "type": "string"
            },
            "text/plain": [
              "'0.271'"
            ]
          },
          "metadata": {
            "tags": []
          },
          "execution_count": 14
        }
      ]
    },
    {
      "cell_type": "code",
      "metadata": {
        "colab": {
          "base_uri": "https://localhost:8080/",
          "height": 35
        },
        "id": "vnvQU1K5KkbY",
        "outputId": "784860f6-825a-4172-e97f-528e19b03ccb"
      },
      "source": [
        "'%.3f' % (sclf.predict_proba(extract_histogram(cv2.imread('test/cat.1001.jpg')).reshape(1, -1))[0][1])"
      ],
      "execution_count": null,
      "outputs": [
        {
          "output_type": "execute_result",
          "data": {
            "application/vnd.google.colaboratory.intrinsic+json": {
              "type": "string"
            },
            "text/plain": [
              "'0.266'"
            ]
          },
          "metadata": {
            "tags": []
          },
          "execution_count": 15
        }
      ]
    }
  ]
}