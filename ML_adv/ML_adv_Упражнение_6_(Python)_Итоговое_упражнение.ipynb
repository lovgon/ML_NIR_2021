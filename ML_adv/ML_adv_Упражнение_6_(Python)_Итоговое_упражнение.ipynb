{
  "nbformat": 4,
  "nbformat_minor": 0,
  "metadata": {
    "colab": {
      "name": "ML_adv_Упражнение_6_(Python)_Итоговое_упражнение.ipynb",
      "provenance": [],
      "collapsed_sections": [],
      "authorship_tag": "ABX9TyOjPxp5oLa4q68UYH6TmpRn",
      "include_colab_link": true
    },
    "kernelspec": {
      "name": "python3",
      "display_name": "Python 3"
    },
    "language_info": {
      "name": "python"
    }
  },
  "cells": [
    {
      "cell_type": "markdown",
      "metadata": {
        "id": "view-in-github",
        "colab_type": "text"
      },
      "source": [
        "<a href=\"https://colab.research.google.com/github/lovgon/ML_NIR_2021/blob/main/ML_adv/ML_adv_%D0%A3%D0%BF%D1%80%D0%B0%D0%B6%D0%BD%D0%B5%D0%BD%D0%B8%D0%B5_6_(Python)_%D0%98%D1%82%D0%BE%D0%B3%D0%BE%D0%B2%D0%BE%D0%B5_%D1%83%D0%BF%D1%80%D0%B0%D0%B6%D0%BD%D0%B5%D0%BD%D0%B8%D0%B5.ipynb\" target=\"_parent\"><img src=\"https://colab.research.google.com/assets/colab-badge.svg\" alt=\"Open In Colab\"/></a>"
      ]
    },
    {
      "cell_type": "markdown",
      "metadata": {
        "id": "IoRTqTIIvRcO"
      },
      "source": [
        "В данном упражнении вам предстоит решить задачу многокласовой классификации, используя в качестве тренировочного набора данных -- набор данных MNIST, содержащий образы рукописных цифр.\n",
        "\n",
        "Изображения в наборе данных MNIST имеют размер 28 на 28 пикселей и выполнены в оттенках серого цвета. Большинство инструментов уже содержат этот набор данных в удобном для обработки формате. Самый простой способ — это загрузить данные из библиотеки keras.datasets, где каждое изображение представлено в формате двумерного массива размера 28 на 28 и массива откликов."
      ]
    },
    {
      "cell_type": "markdown",
      "metadata": {
        "id": "bB47W7Zf1JmW"
      },
      "source": [
        "**Всё, что связанно с методом главных компонент находится в python ноутбуке упражнения 1**\n",
        "\n",
        "**Всё, что связанно с обучением моделей ML находится в python ноутбуке итогового упражнения**"
      ]
    },
    {
      "cell_type": "markdown",
      "metadata": {
        "id": "Wfkr_-XmvYJh"
      },
      "source": [
        "1. Используйте метод главных компонент для набора данных MNIST (train dataset объема 60000). Определите, какое минимальное количество главных компонент  M  необходимо использовать, чтобы доля объясненной дисперсии превышала 0.8 (была строго больше указанного значения)."
      ]
    },
    {
      "cell_type": "code",
      "metadata": {
        "id": "tZ_pE1VAEEtP"
      },
      "source": [
        "import numpy as np\n",
        "import pandas as pd\n",
        "import matplotlib.pyplot as plt\n",
        "from keras.datasets import mnist\n",
        "from sklearn.model_selection import train_test_split\n",
        "from statistics import variance, mean"
      ],
      "execution_count": null,
      "outputs": []
    },
    {
      "cell_type": "code",
      "metadata": {
        "id": "myspAwV1EWsH",
        "colab": {
          "base_uri": "https://localhost:8080/"
        },
        "outputId": "9cd18fc8-7dd4-487f-82d3-ac2a344e7a35"
      },
      "source": [
        "(X_train, y_train), (a, b) = mnist.load_data()"
      ],
      "execution_count": null,
      "outputs": [
        {
          "output_type": "stream",
          "text": [
            "Downloading data from https://storage.googleapis.com/tensorflow/tf-keras-datasets/mnist.npz\n",
            "11493376/11490434 [==============================] - 0s 0us/step\n",
            "11501568/11490434 [==============================] - 0s 0us/step\n"
          ],
          "name": "stdout"
        }
      ]
    },
    {
      "cell_type": "code",
      "metadata": {
        "id": "NCnLgGVApFWO",
        "colab": {
          "base_uri": "https://localhost:8080/"
        },
        "outputId": "6e08cd03-45a0-4f91-c429-bf87e67ed52f"
      },
      "source": [
        "dim = 28*28\n",
        "X_train = X_train.reshape(len(X_train), dim)\n",
        "X_train.shape"
      ],
      "execution_count": null,
      "outputs": [
        {
          "output_type": "execute_result",
          "data": {
            "text/plain": [
              "(60000, 784)"
            ]
          },
          "metadata": {
            "tags": []
          },
          "execution_count": 3
        }
      ]
    },
    {
      "cell_type": "code",
      "metadata": {
        "id": "4ePVyOCblfUa"
      },
      "source": [
        "from sklearn.decomposition import PCA\n",
        "\n",
        "pca = PCA(n_components=dim, svd_solver='full')\n",
        "\n",
        "modelPCA = pca.fit(X_train)\n",
        "X_train = modelPCA.transform(X_train)"
      ],
      "execution_count": null,
      "outputs": []
    },
    {
      "cell_type": "markdown",
      "metadata": {
        "id": "iZSCt6hvvanp"
      },
      "source": [
        "Введите количество главных компонент  M :"
      ]
    },
    {
      "cell_type": "code",
      "metadata": {
        "id": "OVxb8JT6mBqs",
        "colab": {
          "base_uri": "https://localhost:8080/"
        },
        "outputId": "53df5d50-8932-4877-8781-d4fa9c492212"
      },
      "source": [
        "M = next(x[0] for x in enumerate(np.cumsum(pca.explained_variance_ratio_)) if x[1] > 0.71) + 1\n",
        "print('Количество главных компонент M =', M)"
      ],
      "execution_count": null,
      "outputs": [
        {
          "output_type": "stream",
          "text": [
            "Количество главных компонент M = 28\n"
          ],
          "name": "stdout"
        }
      ]
    },
    {
      "cell_type": "markdown",
      "metadata": {
        "id": "MhYmE1JiveVV"
      },
      "source": [
        "2. Найдите счеты, отвечающие найденным в предыдущем пункте  M  главным компонентам: PCA(n_components=M, svd_solver='full')."
      ]
    },
    {
      "cell_type": "code",
      "metadata": {
        "id": "0e9pjkHPsxdo"
      },
      "source": [
        "(X_train, y_train), (a, b) = mnist.load_data()"
      ],
      "execution_count": null,
      "outputs": []
    },
    {
      "cell_type": "code",
      "metadata": {
        "id": "Ez9URWHdtQ4y",
        "colab": {
          "base_uri": "https://localhost:8080/"
        },
        "outputId": "5746c8b2-139f-4d45-8617-b9fbe3c1a400"
      },
      "source": [
        "dim = 28*28\n",
        "X_train = X_train.reshape(len(X_train), dim)\n",
        "X_train.shape"
      ],
      "execution_count": null,
      "outputs": [
        {
          "output_type": "execute_result",
          "data": {
            "text/plain": [
              "(60000, 784)"
            ]
          },
          "metadata": {
            "tags": []
          },
          "execution_count": 7
        }
      ]
    },
    {
      "cell_type": "code",
      "metadata": {
        "id": "5hhIB49po5jG"
      },
      "source": [
        "from sklearn.decomposition import PCA\n",
        "\n",
        "pca = PCA(n_components=M, svd_solver='full')\n",
        "\n",
        "modelPCA = pca.fit(X_train) \n",
        "X_train = modelPCA.transform(X_train)"
      ],
      "execution_count": null,
      "outputs": []
    },
    {
      "cell_type": "markdown",
      "metadata": {
        "id": "5bIrKWDEvhop"
      },
      "source": [
        "3. Разделите полученную выборку (после сокращения размерности) случайным образом в отношении 70/30: train_test_split(X_train, y_train, test_size=0.3, random_state=45)."
      ]
    },
    {
      "cell_type": "code",
      "metadata": {
        "id": "h77bokDEoeH6",
        "colab": {
          "base_uri": "https://localhost:8080/"
        },
        "outputId": "c8496cf6-88a0-448e-ee56-1eb218f0bf3c"
      },
      "source": [
        "X_train, X_test, y_train, y_test = train_test_split(X_train, y_train, test_size=0.3, random_state=54)\n",
        "X_train.shape"
      ],
      "execution_count": null,
      "outputs": [
        {
          "output_type": "execute_result",
          "data": {
            "text/plain": [
              "(42000, 28)"
            ]
          },
          "metadata": {
            "tags": []
          },
          "execution_count": 9
        }
      ]
    },
    {
      "cell_type": "markdown",
      "metadata": {
        "id": "QC0Yq15ivoCY"
      },
      "source": [
        "Введите выборочное среднее нулевой колонки для полученного тренировочного набора:"
      ]
    },
    {
      "cell_type": "code",
      "metadata": {
        "id": "tYQRk3uxFPqT",
        "colab": {
          "base_uri": "https://localhost:8080/",
          "height": 35
        },
        "outputId": "3a04b33b-b0ac-4147-b40f-caf6bde2004e"
      },
      "source": [
        "'%.2f' % X_train[:,0].mean()"
      ],
      "execution_count": null,
      "outputs": [
        {
          "output_type": "execute_result",
          "data": {
            "application/vnd.google.colaboratory.intrinsic+json": {
              "type": "string"
            },
            "text/plain": [
              "'0.84'"
            ]
          },
          "metadata": {
            "tags": []
          },
          "execution_count": 10
        }
      ]
    },
    {
      "cell_type": "markdown",
      "metadata": {
        "id": "oQ5gFV9wniXR"
      },
      "source": [
        "4. Используя метод многоклассовой классификации One-vs-All OneVsRestClassifier(), обучите алгоритм случайного леса RandomForestClassifier() с параметрами criterion='gini', min_samples_leaf=10, max_depth=20, n_estimators=10, random_state=45. Выполните оценку с помощью тестовых данных."
      ]
    },
    {
      "cell_type": "code",
      "metadata": {
        "id": "1GAJaYwYGgdz"
      },
      "source": [
        "from sklearn.multiclass import OneVsRestClassifier\n",
        "from sklearn.tree import DecisionTreeClassifier\n",
        "from sklearn.ensemble import RandomForestClassifier\n",
        "from sklearn.linear_model import LogisticRegression\n",
        "from sklearn.metrics import confusion_matrix"
      ],
      "execution_count": null,
      "outputs": []
    },
    {
      "cell_type": "code",
      "metadata": {
        "id": "k4JxANkrG2qE"
      },
      "source": [
        "RandomForestClassifier = RandomForestClassifier(criterion='gini', min_samples_leaf=10, max_depth=20, n_estimators=10, random_state=54)\n",
        "clf = OneVsRestClassifier(RandomForestClassifier).fit(X_train, y_train)\n",
        "y_pred = clf.predict(X_test)\n",
        "CM = confusion_matrix(y_test, y_pred)"
      ],
      "execution_count": null,
      "outputs": []
    },
    {
      "cell_type": "markdown",
      "metadata": {
        "id": "OtLT_NKunms3"
      },
      "source": [
        "Введите количество верно классифицированных объектов класса 5 для тестовых данных:"
      ]
    },
    {
      "cell_type": "code",
      "metadata": {
        "id": "1zrVqHhQHMiT",
        "colab": {
          "base_uri": "https://localhost:8080/"
        },
        "outputId": "2e4484cb-46f8-4044-d5f7-c368d108a270"
      },
      "source": [
        "CM[4][4]"
      ],
      "execution_count": null,
      "outputs": [
        {
          "output_type": "execute_result",
          "data": {
            "text/plain": [
              "1591"
            ]
          },
          "metadata": {
            "tags": []
          },
          "execution_count": 13
        }
      ]
    },
    {
      "cell_type": "markdown",
      "metadata": {
        "id": "bjLHhraEnpmE"
      },
      "source": [
        "5. Используя метод многоклассовой классификации One-vs-All OneVsRestClassifier(), обучите алгоритм логистической регрессии LogisticRegression(solver='lbfgs', random_state=45). Остальные параметры оставьте по умолчанию. Выполните оценку с помощью тестовых данных."
      ]
    },
    {
      "cell_type": "code",
      "metadata": {
        "id": "Rtt0FUk6xSGV"
      },
      "source": [
        "LogisticRegression = LogisticRegression(solver='lbfgs', random_state=54)\n",
        "clf = OneVsRestClassifier(LogisticRegression).fit(X_train, y_train)\n",
        "y_pred = clf.predict(X_test)\n",
        "CM = confusion_matrix(y_test, y_pred)"
      ],
      "execution_count": null,
      "outputs": []
    },
    {
      "cell_type": "markdown",
      "metadata": {
        "id": "qNAurtLFnreE"
      },
      "source": [
        "Введите количество верно классифицированных объектов класса 1 для тестовых данных:"
      ]
    },
    {
      "cell_type": "code",
      "metadata": {
        "id": "MLWk3aeEyYGR",
        "colab": {
          "base_uri": "https://localhost:8080/"
        },
        "outputId": "4176d6a9-721e-45fa-a333-917be6809fbb"
      },
      "source": [
        "CM[6][6]"
      ],
      "execution_count": null,
      "outputs": [
        {
          "output_type": "execute_result",
          "data": {
            "text/plain": [
              "1684"
            ]
          },
          "metadata": {
            "tags": []
          },
          "execution_count": 15
        }
      ]
    },
    {
      "cell_type": "markdown",
      "metadata": {
        "id": "48t0qScJn4IG"
      },
      "source": [
        "6. Используя метод многоклассовой классификации One-vs-All OneVsRestClassifier(), обучите дерево принятия решений DecisionTreeClassifier() с параметрами criterion='gini', min_samples_leaf=10, max_depth=20, random_state=45. Выполните оценку с помощью тестовых данных."
      ]
    },
    {
      "cell_type": "code",
      "metadata": {
        "id": "IIJGXebwyZIN"
      },
      "source": [
        "DecisionTreeClassifier = DecisionTreeClassifier(criterion='gini', min_samples_leaf=10, max_depth=20, random_state=54)\n",
        "clf = OneVsRestClassifier(DecisionTreeClassifier).fit(X_train, y_train)\n",
        "y_pred = clf.predict(X_test)\n",
        "CM = confusion_matrix(y_test, y_pred)"
      ],
      "execution_count": null,
      "outputs": []
    },
    {
      "cell_type": "markdown",
      "metadata": {
        "id": "RHahJhMun5Vu"
      },
      "source": [
        "Введите количество верно классифицированных объектов класса 4 для тестовых данных:"
      ]
    },
    {
      "cell_type": "code",
      "metadata": {
        "id": "i0ZcWaCbykWK",
        "colab": {
          "base_uri": "https://localhost:8080/"
        },
        "outputId": "6e328b82-6140-4099-f3a4-8decd0214ecb"
      },
      "source": [
        "CM[3][3]"
      ],
      "execution_count": null,
      "outputs": [
        {
          "output_type": "execute_result",
          "data": {
            "text/plain": [
              "1477"
            ]
          },
          "metadata": {
            "tags": []
          },
          "execution_count": 17
        }
      ]
    },
    {
      "cell_type": "markdown",
      "metadata": {
        "id": "0NtZRgGyoF7q"
      },
      "source": [
        "7. Примените полученное ранее преобразование метода главных компонент к новым данным (идентификаторы строк соответствуют файлам изображений)."
      ]
    },
    {
      "cell_type": "code",
      "metadata": {
        "id": "-Igf498LymkB"
      },
      "source": [
        "X = pd.read_csv('pred_for_task.csv')\n",
        "X_pca = np.array(X.drop(columns=['FileName', 'Label']).values.tolist())\n",
        "pca = PCA(n_components=M, svd_solver='full')\n",
        "X_pca = modelPCA.transform(X_pca)"
      ],
      "execution_count": null,
      "outputs": []
    },
    {
      "cell_type": "markdown",
      "metadata": {
        "id": "17_jVSwpoP2Q"
      },
      "source": [
        "8. Выполните предсказание для указанных изображений цифр с помощью обученных алгоритмов."
      ]
    },
    {
      "cell_type": "code",
      "metadata": {
        "id": "eZf2zeCy1OV2",
        "colab": {
          "base_uri": "https://localhost:8080/",
          "height": 35
        },
        "outputId": "d2518f2a-6c07-4e42-9a65-b838a4a63b47"
      },
      "source": [
        "y_pred = OneVsRestClassifier(RandomForestClassifier).fit(X_train, y_train).predict_proba(X_pca)\n",
        "'%.3f' % y_pred[19].max()"
      ],
      "execution_count": null,
      "outputs": [
        {
          "output_type": "execute_result",
          "data": {
            "application/vnd.google.colaboratory.intrinsic+json": {
              "type": "string"
            },
            "text/plain": [
              "'0.938'"
            ]
          },
          "metadata": {
            "tags": []
          },
          "execution_count": 23
        }
      ]
    },
    {
      "cell_type": "code",
      "metadata": {
        "id": "OL2giJuG4lZ3",
        "colab": {
          "base_uri": "https://localhost:8080/",
          "height": 35
        },
        "outputId": "4e6c3baa-64be-4762-8bd0-80d4082c06bc"
      },
      "source": [
        "y_pred = OneVsRestClassifier(LogisticRegression).fit(X_train, y_train).predict_proba(X_pca)\n",
        "'%.3f' % y_pred[23].max()"
      ],
      "execution_count": null,
      "outputs": [
        {
          "output_type": "execute_result",
          "data": {
            "application/vnd.google.colaboratory.intrinsic+json": {
              "type": "string"
            },
            "text/plain": [
              "'0.918'"
            ]
          },
          "metadata": {
            "tags": []
          },
          "execution_count": 21
        }
      ]
    },
    {
      "cell_type": "code",
      "metadata": {
        "id": "HVR8OtNN5PDm",
        "colab": {
          "base_uri": "https://localhost:8080/",
          "height": 35
        },
        "outputId": "48de6b28-f3fe-4102-9ef3-182588f75629"
      },
      "source": [
        "y_pred = OneVsRestClassifier(DecisionTreeClassifier).fit(X_train, y_train).predict_proba(X_pca)\n",
        "'%.3f' % y_pred[7].max()"
      ],
      "execution_count": null,
      "outputs": [
        {
          "output_type": "execute_result",
          "data": {
            "application/vnd.google.colaboratory.intrinsic+json": {
              "type": "string"
            },
            "text/plain": [
              "'1.000'"
            ]
          },
          "metadata": {
            "tags": []
          },
          "execution_count": 22
        }
      ]
    }
  ]
}