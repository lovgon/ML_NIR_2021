{
  "nbformat": 4,
  "nbformat_minor": 0,
  "metadata": {
    "colab": {
      "name": "Копия ML_базовый_Упражнение_2_Линейная_регрессия.ipynb",
      "provenance": [],
      "include_colab_link": true
    },
    "kernelspec": {
      "name": "python3",
      "display_name": "Python 3"
    },
    "language_info": {
      "name": "python"
    }
  },
  "cells": [
    {
      "cell_type": "markdown",
      "metadata": {
        "id": "view-in-github",
        "colab_type": "text"
      },
      "source": [
        "<a href=\"https://colab.research.google.com/github/lovgon/ML_NIR_2021/blob/main/ML_basic/ML_%D0%B1%D0%B0%D0%B7%D0%BE%D0%B2%D1%8B%D0%B9_%D0%A3%D0%BF%D1%80%D0%B0%D0%B6%D0%BD%D0%B5%D0%BD%D0%B8%D0%B5_2_%D0%9B%D0%B8%D0%BD%D0%B5%D0%B9%D0%BD%D0%B0%D1%8F_%D1%80%D0%B5%D0%B3%D1%80%D0%B5%D1%81%D1%81%D0%B8%D1%8F.ipynb\" target=\"_parent\"><img src=\"https://colab.research.google.com/assets/colab-badge.svg\" alt=\"Open In Colab\"/></a>"
      ]
    },
    {
      "cell_type": "markdown",
      "metadata": {
        "id": "PI-rRkQ-Yy1D"
      },
      "source": [
        "### Оцениваемое упражнение 1"
      ]
    },
    {
      "cell_type": "code",
      "metadata": {
        "id": "v7XPPHmalTne"
      },
      "source": [
        "import pandas as pd\n",
        "\n",
        "data = pd.read_csv(\"data.csv\", index_col='id')"
      ],
      "execution_count": null,
      "outputs": []
    },
    {
      "cell_type": "markdown",
      "metadata": {
        "id": "H6uRipHhY7tf"
      },
      "source": [
        "Определите выборочное среднее X:"
      ]
    },
    {
      "cell_type": "code",
      "metadata": {
        "colab": {
          "base_uri": "https://localhost:8080/"
        },
        "id": "Q6_Wqmpyq3pb",
        "outputId": "e2d68ec4-c565-4b8b-f386-39b485e1c097"
      },
      "source": [
        "data['X'].mean()"
      ],
      "execution_count": null,
      "outputs": [
        {
          "output_type": "execute_result",
          "data": {
            "text/plain": [
              "8.4"
            ]
          },
          "metadata": {
            "tags": []
          },
          "execution_count": 15
        }
      ]
    },
    {
      "cell_type": "markdown",
      "metadata": {
        "id": "BQmtU1NfZATy"
      },
      "source": [
        "Определите выборочное среднее Y:"
      ]
    },
    {
      "cell_type": "code",
      "metadata": {
        "colab": {
          "base_uri": "https://localhost:8080/"
        },
        "id": "5bHKM9TjrITC",
        "outputId": "31bfe1bf-c74a-4c73-ceea-9b2cbe8b731b"
      },
      "source": [
        "data['Y'].mean()"
      ],
      "execution_count": null,
      "outputs": [
        {
          "output_type": "execute_result",
          "data": {
            "text/plain": [
              "19.3"
            ]
          },
          "metadata": {
            "tags": []
          },
          "execution_count": 16
        }
      ]
    },
    {
      "cell_type": "markdown",
      "metadata": {
        "id": "kCJoUjNoZkO2"
      },
      "source": [
        "Обучите модель линейной регрессии для прогнозирования и введите указанные параметры."
      ]
    },
    {
      "cell_type": "code",
      "metadata": {
        "id": "tqYsiaj-cCSE"
      },
      "source": [
        "from sklearn.linear_model import LinearRegression\n",
        "\n",
        "X = pd.DataFrame(data['X'])\n",
        "y = pd.DataFrame(data['Y'])\n",
        "\n",
        "reg = LinearRegression().fit(X, y)"
      ],
      "execution_count": null,
      "outputs": []
    },
    {
      "cell_type": "markdown",
      "metadata": {
        "id": "H-PCzcDlhZJY"
      },
      "source": [
        "Найдите коэффициент $\\theta_1$: *Ответ округлите до сотых.*"
      ]
    },
    {
      "cell_type": "code",
      "metadata": {
        "colab": {
          "base_uri": "https://localhost:8080/",
          "height": 35
        },
        "id": "zzw9xXtehZJZ",
        "outputId": "b9f2c973-2ac3-4194-ac08-a3822a3b9e31"
      },
      "source": [
        "'%.2f' % reg.coef_[0]"
      ],
      "execution_count": null,
      "outputs": [
        {
          "output_type": "execute_result",
          "data": {
            "application/vnd.google.colaboratory.intrinsic+json": {
              "type": "string"
            },
            "text/plain": [
              "'2.41'"
            ]
          },
          "metadata": {
            "tags": []
          },
          "execution_count": 18
        }
      ]
    },
    {
      "cell_type": "markdown",
      "metadata": {
        "id": "5JIm9mT5hZJV"
      },
      "source": [
        "Найдите коэффициент $\\theta_0$: *Ответ округлите до сотых.*"
      ]
    },
    {
      "cell_type": "code",
      "metadata": {
        "colab": {
          "base_uri": "https://localhost:8080/",
          "height": 35
        },
        "id": "vrKDssHFhZJW",
        "outputId": "b7bf3f61-f53d-47a2-f1e2-24033586145d"
      },
      "source": [
        "'%.2f' % reg.intercept_[0]"
      ],
      "execution_count": null,
      "outputs": [
        {
          "output_type": "execute_result",
          "data": {
            "application/vnd.google.colaboratory.intrinsic+json": {
              "type": "string"
            },
            "text/plain": [
              "'-0.95'"
            ]
          },
          "metadata": {
            "tags": []
          },
          "execution_count": 19
        }
      ]
    },
    {
      "cell_type": "markdown",
      "metadata": {
        "id": "JnVc68_2cc6F"
      },
      "source": [
        "Оцените точность модели, вычислив  R^2 статистику: Ответ округлите до сотых."
      ]
    },
    {
      "cell_type": "code",
      "metadata": {
        "id": "jJ2QeXC5mCp8"
      },
      "source": [
        "import numpy as np\n",
        "from sklearn.metrics import r2_score\n",
        "from scipy import stats\n",
        "\n",
        "x = np.array(list(data['X']))\n",
        "y = np.array(list(data['Y']))\n",
        "\n",
        "slope, intercept, r_value, p_value, std_err = stats.linregress(x,y)\n",
        "\n",
        "def linefitline(b):\n",
        "    return intercept + slope * b\n",
        "    \n",
        "line1 = linefitline(x)"
      ],
      "execution_count": null,
      "outputs": []
    },
    {
      "cell_type": "code",
      "metadata": {
        "colab": {
          "base_uri": "https://localhost:8080/",
          "height": 35
        },
        "id": "9kBY6szDnQfo",
        "outputId": "73dec955-c7d1-44fa-de49-8b16d0b044c3"
      },
      "source": [
        "r2 = r2_score(y, linefitline(x))\n",
        "'%.2f' % (r2)"
      ],
      "execution_count": null,
      "outputs": [
        {
          "output_type": "execute_result",
          "data": {
            "application/vnd.google.colaboratory.intrinsic+json": {
              "type": "string"
            },
            "text/plain": [
              "'0.95'"
            ]
          },
          "metadata": {
            "tags": []
          },
          "execution_count": 21
        }
      ]
    },
    {
      "cell_type": "markdown",
      "metadata": {
        "id": "Ar-BU4F8Y2GS"
      },
      "source": [
        "### Оцениваемое упражнение 2"
      ]
    },
    {
      "cell_type": "markdown",
      "metadata": {
        "id": "hRLUa3DFxpjv"
      },
      "source": [
        "В прилагаемом файле представлены данные, собранные путем голосования за самые лучшие (или, по крайней мере, самые популярные) конфеты Хэллоуина. Обучите модель линейной многомерной регрессии. В качестве предикторов выступают поля: chocolate, fruity, caramel, peanutyalmondy, nougat, crispedricewafer, hard, bar, pluribus, sugarpercent, pricepercent, отклик — winpercent.\n",
        "\n",
        "В качестве тренировочного набора данных используйте данные из файла, за иключением следующих конфет: One quarter, Peanut butter M&Ms. Обучите модель."
      ]
    },
    {
      "cell_type": "code",
      "metadata": {
        "id": "h_lbC0wLhZJE"
      },
      "source": [
        "import pandas as pd\n",
        "DATA = pd.read_csv(\"candy-data.csv\", delimiter=',', index_col='competitorname')\n",
        "\n",
        "train_data = DATA.drop(['Caramel Apple Pops', 'Nestle Crunch'])\n",
        "\n",
        "from sklearn.linear_model import LinearRegression\n",
        "\n",
        "X = pd.DataFrame(train_data.drop(['winpercent', 'Y'], axis=1))\n",
        "y = pd.DataFrame(train_data['winpercent'])\n",
        "\n",
        "reg = LinearRegression().fit(X, y)"
      ],
      "execution_count": null,
      "outputs": []
    },
    {
      "cell_type": "markdown",
      "metadata": {
        "id": "2fQSXlKUx_T6"
      },
      "source": [
        "Введите предсказанное значение winpercent для конфеты One quarter:"
      ]
    },
    {
      "cell_type": "code",
      "metadata": {
        "colab": {
          "base_uri": "https://localhost:8080/",
          "height": 35
        },
        "id": "whcJBOFsQ6Uz",
        "outputId": "1157aff2-6611-4956-ea86-c678a23ad00c"
      },
      "source": [
        "candy = DATA.loc['Caramel Apple Pops',:].to_frame().T\n",
        "'%.3f' % (reg.predict(candy.drop(['winpercent', 'Y'], axis=1)))"
      ],
      "execution_count": null,
      "outputs": [
        {
          "output_type": "execute_result",
          "data": {
            "application/vnd.google.colaboratory.intrinsic+json": {
              "type": "string"
            },
            "text/plain": [
              "'54.291'"
            ]
          },
          "metadata": {
            "tags": []
          },
          "execution_count": 10
        }
      ]
    },
    {
      "cell_type": "markdown",
      "metadata": {
        "id": "fdzrvMkGyBVO"
      },
      "source": [
        "Введите предсказанное значение winpercent для конфеты Peanut butter M&Ms:"
      ]
    },
    {
      "cell_type": "code",
      "metadata": {
        "colab": {
          "base_uri": "https://localhost:8080/",
          "height": 35
        },
        "id": "NqaHglaajBII",
        "outputId": "439f564d-a99f-4ed7-cd74-8f6467aa915f"
      },
      "source": [
        "candy = DATA.loc['Nestle Crunch',:].to_frame().T\n",
        "'%.3f' % (reg.predict(candy.drop(['winpercent', 'Y'], axis=1)))"
      ],
      "execution_count": null,
      "outputs": [
        {
          "output_type": "execute_result",
          "data": {
            "application/vnd.google.colaboratory.intrinsic+json": {
              "type": "string"
            },
            "text/plain": [
              "'61.068'"
            ]
          },
          "metadata": {
            "tags": []
          },
          "execution_count": 11
        }
      ]
    },
    {
      "cell_type": "markdown",
      "metadata": {
        "id": "uWj7bPALyDNK"
      },
      "source": [
        "Введите предсказанное значение winpercent для конфеты с параметрами:\n",
        "`[0, 1, 1, 1, 1, 0, 1, 1, 0, 0.505, 0.618]`"
      ]
    },
    {
      "cell_type": "code",
      "metadata": {
        "colab": {
          "base_uri": "https://localhost:8080/",
          "height": 35
        },
        "id": "hAXpktU-hZJT",
        "outputId": "eee0f6fa-ef70-4a7d-9e90-c748d0fcbcb0"
      },
      "source": [
        "NewObject = [0, 1, 1, 1, 1, 0, 1, 1, 0, 0.505, 0.618]\n",
        "'%.3f' % (reg.predict([NewObject]))"
      ],
      "execution_count": null,
      "outputs": [
        {
          "output_type": "execute_result",
          "data": {
            "application/vnd.google.colaboratory.intrinsic+json": {
              "type": "string"
            },
            "text/plain": [
              "'53.873'"
            ]
          },
          "metadata": {
            "tags": []
          },
          "execution_count": 12
        }
      ]
    }
  ]
}