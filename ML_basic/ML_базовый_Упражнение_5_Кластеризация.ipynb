{
  "nbformat": 4,
  "nbformat_minor": 0,
  "metadata": {
    "colab": {
      "name": "Копия ML_базовый_Упражнение_5_Кластеризация.ipynb",
      "provenance": [],
      "authorship_tag": "ABX9TyOQYBz6vrpNKoCeKih2An4V",
      "include_colab_link": true
    },
    "kernelspec": {
      "name": "python3",
      "display_name": "Python 3"
    },
    "language_info": {
      "name": "python"
    }
  },
  "cells": [
    {
      "cell_type": "markdown",
      "metadata": {
        "id": "view-in-github",
        "colab_type": "text"
      },
      "source": [
        "<a href=\"https://colab.research.google.com/github/lovgon/ML_NIR_2021/blob/main/ML_basic/ML_%D0%B1%D0%B0%D0%B7%D0%BE%D0%B2%D1%8B%D0%B9_%D0%A3%D0%BF%D1%80%D0%B0%D0%B6%D0%BD%D0%B5%D0%BD%D0%B8%D0%B5_5_%D0%9A%D0%BB%D0%B0%D1%81%D1%82%D0%B5%D1%80%D0%B8%D0%B7%D0%B0%D1%86%D0%B8%D1%8F.ipynb\" target=\"_parent\"><img src=\"https://colab.research.google.com/assets/colab-badge.svg\" alt=\"Open In Colab\"/></a>"
      ]
    },
    {
      "cell_type": "markdown",
      "metadata": {
        "collapsed": true,
        "id": "WrtqjJntbt8E"
      },
      "source": [
        "# Введение в машинное обучение (магистры, 2020-2021)\n",
        "\n",
        "## Упражнение 5. Кластеризация"
      ]
    },
    {
      "cell_type": "code",
      "metadata": {
        "id": "kr1mgdfUbt8M",
        "colab": {
          "base_uri": "https://localhost:8080/"
        },
        "outputId": "ae12793b-f016-405c-bf57-8d18f3cb34ee"
      },
      "source": [
        "import pandas as pd\n",
        "DATA = pd.read_csv(\"kmeans.csv\", delimiter=',', index_col='Object')\n",
        "coords = DATA.drop('Cluster', axis=1)\n",
        "\n",
        "NewObject = [[11.0, 10.33], [11.86, 12.71], [7.2, 12.8]]\n",
        "\n",
        "import numpy as np\n",
        "centroid = np.array(NewObject)\n",
        "\n",
        "from sklearn.cluster import KMeans\n",
        "kmeans = KMeans(n_clusters=3, init=centroid, max_iter=100, n_init=1)\n",
        "model = kmeans.fit(coords)\n",
        "model.labels_.tolist()"
      ],
      "execution_count": null,
      "outputs": [
        {
          "output_type": "execute_result",
          "data": {
            "text/plain": [
              "[2, 2, 2, 0, 1, 1, 2, 2, 2, 1, 0, 2, 0, 2, 1]"
            ]
          },
          "metadata": {
            "tags": []
          },
          "execution_count": 1
        }
      ]
    },
    {
      "cell_type": "code",
      "metadata": {
        "id": "jDAMmSbLbt8Q",
        "colab": {
          "base_uri": "https://localhost:8080/",
          "height": 35
        },
        "outputId": "5be8e3be-0920-4b77-870c-a0f241cd7362"
      },
      "source": [
        "alldistances = kmeans.fit_transform(coords)\n",
        "labels = pd.DataFrame(model.labels_, columns=['label'])\n",
        "df_alldist = pd.DataFrame(alldistances, columns=['0', '1', '2'])\n",
        "joined_data = labels.join(df_alldist)\n",
        "filtered_data = joined_data[joined_data['label'] == 0]\n",
        "'%.3f' % filtered_data['0'].mean()"
      ],
      "execution_count": null,
      "outputs": [
        {
          "output_type": "execute_result",
          "data": {
            "application/vnd.google.colaboratory.intrinsic+json": {
              "type": "string"
            },
            "text/plain": [
              "'3.007'"
            ]
          },
          "metadata": {
            "tags": []
          },
          "execution_count": 2
        }
      ]
    }
  ]
}