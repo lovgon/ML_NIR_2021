{
  "nbformat": 4,
  "nbformat_minor": 0,
  "metadata": {
    "colab": {
      "name": "Копия ML_базовый_Упражнение_3_Задача_классификации:_Логистическая_регрессия.ipynb",
      "provenance": [],
      "authorship_tag": "ABX9TyNyDvbenIszsKJEjY5P4b94",
      "include_colab_link": true
    },
    "kernelspec": {
      "name": "python3",
      "display_name": "Python 3"
    },
    "language_info": {
      "name": "python"
    }
  },
  "cells": [
    {
      "cell_type": "markdown",
      "metadata": {
        "id": "view-in-github",
        "colab_type": "text"
      },
      "source": [
        "<a href=\"https://colab.research.google.com/github/lovgon/ML_NIR_2021/blob/main/ML_basic/ML_%D0%B1%D0%B0%D0%B7%D0%BE%D0%B2%D1%8B%D0%B9_%D0%A3%D0%BF%D1%80%D0%B0%D0%B6%D0%BD%D0%B5%D0%BD%D0%B8%D0%B5_3_%D0%97%D0%B0%D0%B4%D0%B0%D1%87%D0%B0_%D0%BA%D0%BB%D0%B0%D1%81%D1%81%D0%B8%D1%84%D0%B8%D0%BA%D0%B0%D1%86%D0%B8%D0%B8__%D0%9B%D0%BE%D0%B3%D0%B8%D1%81%D1%82%D0%B8%D1%87%D0%B5%D1%81%D0%BA%D0%B0%D1%8F_%D1%80%D0%B5%D0%B3%D1%80%D0%B5%D1%81%D1%81%D0%B8%D1%8F.ipynb\" target=\"_parent\"><img src=\"https://colab.research.google.com/assets/colab-badge.svg\" alt=\"Open In Colab\"/></a>"
      ]
    },
    {
      "cell_type": "markdown",
      "metadata": {
        "id": "1tW3FqMUrvaA"
      },
      "source": [
        "# Введение в машинное обучение (магистры, 2020-2021)\n",
        "\n",
        "## Упражнение 3. Задача классификации: Логистическая регрессия"
      ]
    },
    {
      "cell_type": "code",
      "metadata": {
        "id": "pF6d1HIlrvaI"
      },
      "source": [
        "import pandas as pd\n",
        "DATA = pd.read_csv(\"candy-data.csv\", delimiter=',', index_col='competitorname')\n",
        "\n",
        "train_data = DATA.drop(['Fun Dip', 'Laffy Taffy', 'Peanut butter M&Ms'])\n",
        "\n",
        "X = pd.DataFrame(train_data.drop(['winpercent', 'Y'], axis=1))\n",
        "y = pd.DataFrame(train_data['Y'])\n",
        "from sklearn.linear_model import LogisticRegression\n",
        "reg = LogisticRegression(random_state=2019, solver='lbfgs').fit(X, y.values.ravel())\n",
        "test_data = pd.read_csv(\"candy-test.csv\", delimiter=',', index_col='competitorname')\n",
        "X_test = pd.DataFrame(test_data.drop(['Y'], axis=1))\n",
        "Y_pred = reg.predict(X_test)\n",
        "Y_pred_probs = reg.predict_proba(X_test)"
      ],
      "execution_count": null,
      "outputs": []
    },
    {
      "cell_type": "code",
      "metadata": {
        "id": "dnUiDMX1YSeB",
        "colab": {
          "base_uri": "https://localhost:8080/",
          "height": 35
        },
        "outputId": "2c5c1377-f4f0-4b2d-d0bb-23fd86a1eb9c"
      },
      "source": [
        "'%.3f' % (reg.predict_proba(X_test.loc['Trolli Sour Bites',:].to_frame().T))[0][1]"
      ],
      "execution_count": null,
      "outputs": [
        {
          "output_type": "execute_result",
          "data": {
            "application/vnd.google.colaboratory.intrinsic+json": {
              "type": "string"
            },
            "text/plain": [
              "'0.364'"
            ]
          },
          "metadata": {
            "tags": []
          },
          "execution_count": 2
        }
      ]
    },
    {
      "cell_type": "code",
      "metadata": {
        "colab": {
          "base_uri": "https://localhost:8080/",
          "height": 35
        },
        "id": "BCiyMr5OxfCg",
        "outputId": "ca72c85e-31ad-457a-9ede-996a72ee70e7"
      },
      "source": [
        "'%.3f' % (reg.predict_proba(X_test.loc['Sugar Daddy',:].to_frame().T))[0][1]"
      ],
      "execution_count": null,
      "outputs": [
        {
          "output_type": "execute_result",
          "data": {
            "application/vnd.google.colaboratory.intrinsic+json": {
              "type": "string"
            },
            "text/plain": [
              "'0.379'"
            ]
          },
          "metadata": {
            "tags": []
          },
          "execution_count": 3
        }
      ]
    },
    {
      "cell_type": "code",
      "metadata": {
        "id": "caDzuPPvrvaP"
      },
      "source": [
        "Y_pred_probs_class_1 = Y_pred_probs[:, 1]\n",
        "Y_true = (test_data['Y'].to_frame().T).values.ravel()\n",
        "from sklearn import metrics\n",
        "fpr, tpr, _ = metrics.roc_curve(Y_true, Y_pred)"
      ],
      "execution_count": null,
      "outputs": []
    },
    {
      "cell_type": "code",
      "metadata": {
        "id": "K9GPjL9mSaHJ",
        "colab": {
          "base_uri": "https://localhost:8080/",
          "height": 35
        },
        "outputId": "633af0a0-bed9-4cc1-ce09-b8dfbde8d66d"
      },
      "source": [
        "'%.3f' % (metrics.precision_score(Y_true, Y_pred))"
      ],
      "execution_count": null,
      "outputs": [
        {
          "output_type": "execute_result",
          "data": {
            "application/vnd.google.colaboratory.intrinsic+json": {
              "type": "string"
            },
            "text/plain": [
              "'0.500'"
            ]
          },
          "metadata": {
            "tags": []
          },
          "execution_count": 5
        }
      ]
    },
    {
      "cell_type": "code",
      "metadata": {
        "colab": {
          "base_uri": "https://localhost:8080/",
          "height": 35
        },
        "id": "S7JL-MwKv7-p",
        "outputId": "65f04a12-119c-47e6-e393-35f9cf788a1a"
      },
      "source": [
        "'%.3f' % (metrics.recall_score(Y_true, Y_pred))"
      ],
      "execution_count": null,
      "outputs": [
        {
          "output_type": "execute_result",
          "data": {
            "application/vnd.google.colaboratory.intrinsic+json": {
              "type": "string"
            },
            "text/plain": [
              "'0.600'"
            ]
          },
          "metadata": {
            "tags": []
          },
          "execution_count": 6
        }
      ]
    },
    {
      "cell_type": "code",
      "metadata": {
        "colab": {
          "base_uri": "https://localhost:8080/",
          "height": 35
        },
        "id": "9vqjvctav8yM",
        "outputId": "d49c666b-aeec-4b63-cbef-6f04769dce2e"
      },
      "source": [
        "'%.3f' % (metrics.roc_auc_score(Y_true, Y_pred_probs_class_1))"
      ],
      "execution_count": null,
      "outputs": [
        {
          "output_type": "execute_result",
          "data": {
            "application/vnd.google.colaboratory.intrinsic+json": {
              "type": "string"
            },
            "text/plain": [
              "'0.840'"
            ]
          },
          "metadata": {
            "tags": []
          },
          "execution_count": 7
        }
      ]
    }
  ]
}