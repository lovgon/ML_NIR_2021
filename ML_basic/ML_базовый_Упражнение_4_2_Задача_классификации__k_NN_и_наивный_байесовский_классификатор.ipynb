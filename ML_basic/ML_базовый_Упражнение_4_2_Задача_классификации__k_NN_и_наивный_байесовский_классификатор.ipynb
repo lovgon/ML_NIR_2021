{
  "nbformat": 4,
  "nbformat_minor": 0,
  "metadata": {
    "colab": {
      "name": "Копия ML_базовый_Упражнение_4.2_Задача_классификации:_k-NN_и_наивный_байесовский_классификатор.ipynb",
      "provenance": [],
      "authorship_tag": "ABX9TyMzGprcmKIJSrLpx9UeyJ4P",
      "include_colab_link": true
    },
    "kernelspec": {
      "name": "python3",
      "display_name": "Python 3"
    },
    "language_info": {
      "name": "python"
    }
  },
  "cells": [
    {
      "cell_type": "markdown",
      "metadata": {
        "id": "view-in-github",
        "colab_type": "text"
      },
      "source": [
        "<a href=\"https://colab.research.google.com/github/lovgon/ML_NIR_2021/blob/main/ML_basic/ML_%D0%B1%D0%B0%D0%B7%D0%BE%D0%B2%D1%8B%D0%B9_%D0%A3%D0%BF%D1%80%D0%B0%D0%B6%D0%BD%D0%B5%D0%BD%D0%B8%D0%B5_4_2_%D0%97%D0%B0%D0%B4%D0%B0%D1%87%D0%B0_%D0%BA%D0%BB%D0%B0%D1%81%D1%81%D0%B8%D1%84%D0%B8%D0%BA%D0%B0%D1%86%D0%B8%D0%B8__k_NN_%D0%B8_%D0%BD%D0%B0%D0%B8%D0%B2%D0%BD%D1%8B%D0%B9_%D0%B1%D0%B0%D0%B9%D0%B5%D1%81%D0%BE%D0%B2%D1%81%D0%BA%D0%B8%D0%B9_%D0%BA%D0%BB%D0%B0%D1%81%D1%81%D0%B8%D1%84%D0%B8%D0%BA%D0%B0%D1%82%D0%BE%D1%80.ipynb\" target=\"_parent\"><img src=\"https://colab.research.google.com/assets/colab-badge.svg\" alt=\"Open In Colab\"/></a>"
      ]
    },
    {
      "cell_type": "markdown",
      "metadata": {
        "collapsed": true,
        "id": "iV_ZBuBxL7JY"
      },
      "source": [
        "# Введение в машинное обучение (магистры, 2020-2021)\n",
        "\n",
        "## Упражнение 4. Задача классификации: k-NN и наивный байесовский классификатор"
      ]
    },
    {
      "cell_type": "markdown",
      "metadata": {
        "id": "ao8hUqDRqq4W"
      },
      "source": [
        "### Оцениваемое упражнение 2"
      ]
    },
    {
      "cell_type": "code",
      "metadata": {
        "id": "oypgbXC8L7Jh",
        "colab": {
          "base_uri": "https://localhost:8080/",
          "height": 35
        },
        "outputId": "ccdeacde-f8af-468e-f71f-b348a58aed73"
      },
      "source": [
        "import pandas as pd\n",
        "train_data = pd.read_csv(\"Task_data.csv\", delimiter=',', index_col='id')\n",
        "X = pd.DataFrame(train_data.drop(['Class'], axis=1))\n",
        "y = pd.DataFrame(train_data['Class']).values.ravel()\n",
        "from sklearn.neighbors import KNeighborsClassifier\n",
        "neigh = KNeighborsClassifier(n_neighbors=3, p=2)\n",
        "neigh.fit(X, y)\n",
        "\n",
        "NewObject = [58,63]\n",
        "\n",
        "'%.3f' % neigh.kneighbors([NewObject])[0][0][0]"
      ],
      "execution_count": null,
      "outputs": [
        {
          "output_type": "execute_result",
          "data": {
            "application/vnd.google.colaboratory.intrinsic+json": {
              "type": "string"
            },
            "text/plain": [
              "'9.849'"
            ]
          },
          "metadata": {
            "tags": []
          },
          "execution_count": 1
        }
      ]
    },
    {
      "cell_type": "code",
      "metadata": {
        "colab": {
          "base_uri": "https://localhost:8080/"
        },
        "id": "NSqbZzRnsk1i",
        "outputId": "3680faef-8c20-4832-ac7c-ace235c9e205"
      },
      "source": [
        "print(\n",
        "    neigh.kneighbors([NewObject])[1][0][0] + 1,\n",
        "    neigh.kneighbors([NewObject])[1][0][1] + 1,\n",
        "    neigh.kneighbors([NewObject])[1][0][2] + 1,\n",
        "    sep=',')\n",
        "print(neigh.predict([NewObject])[0])"
      ],
      "execution_count": null,
      "outputs": [
        {
          "output_type": "stream",
          "text": [
            "3,4,10\n",
            "1\n"
          ],
          "name": "stdout"
        }
      ]
    },
    {
      "cell_type": "code",
      "metadata": {
        "id": "srWiwOE8uTRe",
        "colab": {
          "base_uri": "https://localhost:8080/",
          "height": 35
        },
        "outputId": "d8c3765c-0f68-488b-9c24-356bafee32d1"
      },
      "source": [
        "neigh = KNeighborsClassifier(n_neighbors=3, p=1)\n",
        "neigh.fit(X, y)\n",
        "\n",
        "'%.3f' % neigh.kneighbors([NewObject])[0][0][0]"
      ],
      "execution_count": null,
      "outputs": [
        {
          "output_type": "execute_result",
          "data": {
            "application/vnd.google.colaboratory.intrinsic+json": {
              "type": "string"
            },
            "text/plain": [
              "'13.000'"
            ]
          },
          "metadata": {
            "tags": []
          },
          "execution_count": 3
        }
      ]
    },
    {
      "cell_type": "code",
      "metadata": {
        "id": "qJArGD9tt7Yi",
        "colab": {
          "base_uri": "https://localhost:8080/"
        },
        "outputId": "b291e944-f42b-4c64-a1f9-2fa57cfe6c36"
      },
      "source": [
        "print(\n",
        "    neigh.kneighbors([NewObject])[1][0][0] + 1,\n",
        "    neigh.kneighbors([NewObject])[1][0][1] + 1,\n",
        "    neigh.kneighbors([NewObject])[1][0][2] + 1,\n",
        "    sep=',')\n",
        "print(neigh.predict([NewObject])[0])"
      ],
      "execution_count": null,
      "outputs": [
        {
          "output_type": "stream",
          "text": [
            "3,4,10\n",
            "1\n"
          ],
          "name": "stdout"
        }
      ]
    }
  ]
}