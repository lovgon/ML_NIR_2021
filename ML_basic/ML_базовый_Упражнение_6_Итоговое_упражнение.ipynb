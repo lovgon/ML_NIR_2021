{
  "nbformat": 4,
  "nbformat_minor": 0,
  "metadata": {
    "colab": {
      "name": "Копия ML_базовый_Упражнение_6_Итоговое упражнение.ipynb",
      "provenance": [],
      "authorship_tag": "ABX9TyOpPK83BK0KOSicIz2IAE+9",
      "include_colab_link": true
    },
    "kernelspec": {
      "name": "python3",
      "display_name": "Python 3"
    },
    "language_info": {
      "name": "python"
    }
  },
  "cells": [
    {
      "cell_type": "markdown",
      "metadata": {
        "id": "view-in-github",
        "colab_type": "text"
      },
      "source": [
        "<a href=\"https://colab.research.google.com/github/lovgon/ML_NIR_2021/blob/main/ML_basic/ML_%D0%B1%D0%B0%D0%B7%D0%BE%D0%B2%D1%8B%D0%B9_%D0%A3%D0%BF%D1%80%D0%B0%D0%B6%D0%BD%D0%B5%D0%BD%D0%B8%D0%B5_6_%D0%98%D1%82%D0%BE%D0%B3%D0%BE%D0%B2%D0%BE%D0%B5_%D1%83%D0%BF%D1%80%D0%B0%D0%B6%D0%BD%D0%B5%D0%BD%D0%B8%D0%B5.ipynb\" target=\"_parent\"><img src=\"https://colab.research.google.com/assets/colab-badge.svg\" alt=\"Open In Colab\"/></a>"
      ]
    },
    {
      "cell_type": "markdown",
      "metadata": {
        "id": "XVeUAnH1HYpa"
      },
      "source": [
        "https://online.ifmo.ru/pls/apex\n",
        "\n",
        "Вам необходимо получить выборку из таблицы  `pulsar_stars`  с помощью запросов на основании следующих критериев:\n",
        "- Все строки таблицы, где `TARGET = 0` и `MIP ∈ [95.8984375, 96.4140625]`;\n",
        "- Все строки таблицы, где `TARGET = 1` и `MIP ∈ [77.4921875, 83.7734375]`.\n",
        "\n",
        "`SELECT * FROM pulsar_stars WHERE ((TARGET = 0 AND MIP BETWEEN 95.8984375 AND 96.4140625) OR (TARGET = 1 AND MIP BETWEEN 77.4921875 AND 83.7734375))`\n",
        "\n",
        "Укажите число строк в полученной выборке:\n",
        "\n",
        "`SELECT COUNT(*) FROM pulsar_stars WHERE ((TARGET = 0 AND MIP BETWEEN 95.8984375 AND 96.4140625) OR (TARGET = 1 AND MIP BETWEEN 77.4921875 AND 83.7734375))`\n",
        "\n",
        "Определите выборочное среднее для столбца `MIP`:\n",
        "\n",
        "`SELECT AVG(MIP) FROM pulsar_stars WHERE ((TARGET = 0 AND MIP BETWEEN 95.8984375 AND 96.4140625) OR (TARGET = 1 AND MIP BETWEEN 77.4921875 AND 83.7734375))`\n",
        "\n",
        "---\n",
        "\n",
        "`SELECT COUNT(*) FROM pulsar_stars WHERE ((TARGET = 0 AND MIP >= 95.8984375 AND MIP <= 96.4140625) OR (TARGET = 1 AND MIP >= 77.4921875 AND MIP <= 83.7734375))`\n",
        "\n",
        "`SELECT AVG(MIP) FROM pulsar_stars WHERE ((TARGET = 0 AND MIP >= 95.8984375 AND MIP <= 96.4140625) OR (TARGET = 1 AND MIP >= 77.4921875 AND MIP <= 83.7734375))`\n",
        "\n",
        "`SELECT * FROM pulsar_stars WHERE ((TARGET = 0 AND MIP >= 95.8984375 AND MIP <= 96.4140625) OR (TARGET = 1 AND MIP >= 77.4921875 AND MIP <= 83.7734375))`"
      ]
    },
    {
      "cell_type": "code",
      "metadata": {
        "id": "FsrranV_HIHB",
        "colab": {
          "base_uri": "https://localhost:8080/",
          "height": 35
        },
        "outputId": "1e5c8804-63a6-4489-f0df-82f2ce54a7b8"
      },
      "source": [
        "import pandas as pd\n",
        "DATA = pd.read_csv(\"report.csv\")\n",
        "\n",
        "from sklearn import preprocessing\n",
        "scaler = preprocessing.MinMaxScaler()\n",
        "names = DATA.columns\n",
        "normalized_arr = scaler.fit_transform(DATA)\n",
        "scaled_df = pd.DataFrame(normalized_arr, columns=names)\n",
        "\n",
        "'%.3f' % scaled_df['MIP'].mean()"
      ],
      "execution_count": null,
      "outputs": [
        {
          "output_type": "execute_result",
          "data": {
            "application/vnd.google.colaboratory.intrinsic+json": {
              "type": "string"
            },
            "text/plain": [
              "'0.567'"
            ]
          },
          "metadata": {
            "tags": []
          },
          "execution_count": 1
        }
      ]
    },
    {
      "cell_type": "code",
      "metadata": {
        "id": "qxJ0nE2JYdyK",
        "colab": {
          "base_uri": "https://localhost:8080/",
          "height": 35
        },
        "outputId": "bc105ca6-9a7a-4423-b8c4-0821c43307e3"
      },
      "source": [
        "X = pd.DataFrame(scaled_df.drop(['TARGET'], axis=1))\n",
        "y = pd.DataFrame(DATA['TARGET']).values.ravel()\n",
        "\n",
        "from sklearn.linear_model import LogisticRegression\n",
        "reg = LogisticRegression(random_state=2019, solver='lbfgs').fit(X, y)\n",
        "NewObject = [0.121,0.009,0.333,0.335,0.655,0.745,0.736,0.536]\n",
        "\n",
        "'%.3f' % reg.predict_proba([NewObject])[0][1]"
      ],
      "execution_count": null,
      "outputs": [
        {
          "output_type": "execute_result",
          "data": {
            "application/vnd.google.colaboratory.intrinsic+json": {
              "type": "string"
            },
            "text/plain": [
              "'0.909'"
            ]
          },
          "metadata": {
            "tags": []
          },
          "execution_count": 2
        }
      ]
    },
    {
      "cell_type": "code",
      "metadata": {
        "id": "zkSstmIgZuYt",
        "colab": {
          "base_uri": "https://localhost:8080/",
          "height": 35
        },
        "outputId": "8362e283-23c4-46cb-b652-6e16c86fd69f"
      },
      "source": [
        "from sklearn.neighbors import KNeighborsClassifier\n",
        "\n",
        "neigh = KNeighborsClassifier(n_neighbors=5, p=2)\n",
        "neigh.fit(X, y)\n",
        "'%.3f' % neigh.kneighbors([NewObject])[0][0][0]"
      ],
      "execution_count": null,
      "outputs": [
        {
          "output_type": "execute_result",
          "data": {
            "application/vnd.google.colaboratory.intrinsic+json": {
              "type": "string"
            },
            "text/plain": [
              "'0.923'"
            ]
          },
          "metadata": {
            "tags": []
          },
          "execution_count": 3
        }
      ]
    },
    {
      "cell_type": "code",
      "metadata": {
        "id": "HfFKJOcnZ_8o",
        "colab": {
          "base_uri": "https://localhost:8080/"
        },
        "outputId": "5e0cc901-8d15-4ea8-d1ad-2eb84a733816"
      },
      "source": [
        "neigh.predict([NewObject])[0]"
      ],
      "execution_count": null,
      "outputs": [
        {
          "output_type": "execute_result",
          "data": {
            "text/plain": [
              "1"
            ]
          },
          "metadata": {
            "tags": []
          },
          "execution_count": 4
        }
      ]
    }
  ]
}